{
 "cells": [
  {
   "cell_type": "code",
   "execution_count": null,
   "metadata": {},
   "outputs": [],
   "source": [
    "import pickle\n",
    "import matplotlib.pyplot as plt\n",
    "from wordcloud import WordCloud, STOPWORDS "
   ]
  },
  {
   "cell_type": "code",
   "execution_count": null,
   "metadata": {},
   "outputs": [],
   "source": [
    "# Deserialize the saved clean_data_array\n",
    "\n",
    "filename = 'clean_data_array'\n",
    "infile = open(filename,'rb')\n",
    "texts = pickle.load(infile)\n",
    "infile.close()\n",
    "\n",
    "#print(texts[0])"
   ]
  },
  {
   "cell_type": "code",
   "execution_count": null,
   "metadata": {},
   "outputs": [],
   "source": [
    "# Visualize word frequency for each text using WordCloud\n",
    "\n",
    "# Define a function to generate WordClouds\n",
    "def generate_wordcloud(text):\n",
    "    wordcloud = WordCloud(font_path='/Library/Fonts/Verdana.ttf',\n",
    "                          width=800, height=400,\n",
    "                          relative_scaling = 1.0,\n",
    "                          stopwords = STOPWORDS\n",
    "                          ).generate(text)\n",
    "    \n",
    "    fig = plt.figure(1, figsize=(8, 4))\n",
    "    plt.axis('off')\n",
    "    plt.imshow(wordcloud)\n",
    "    plt.axis(\"off\")\n",
    "    #plt.show()\n",
    "    plt.savefig(\"WordCloud.png\")\n",
    "\n",
    "\n",
    "# Pass the texts array \n",
    "for i, text in enumerate(texts):\n",
    "    generate_wordcloud(texts[i])\n",
    "\n",
    "#ref: https://stackoverflow.com/questions/16645799/how-to-create-a-word-cloud-from-a-corpus-in-python"
   ]
  },
  {
   "cell_type": "code",
   "execution_count": null,
   "metadata": {},
   "outputs": [],
   "source": []
  }
 ],
 "metadata": {
  "kernelspec": {
   "display_name": "Python 3",
   "language": "python",
   "name": "python3"
  },
  "language_info": {
   "codemirror_mode": {
    "name": "ipython",
    "version": 3
   },
   "file_extension": ".py",
   "mimetype": "text/x-python",
   "name": "python",
   "nbconvert_exporter": "python",
   "pygments_lexer": "ipython3",
   "version": "3.8.3"
  }
 },
 "nbformat": 4,
 "nbformat_minor": 4
}
